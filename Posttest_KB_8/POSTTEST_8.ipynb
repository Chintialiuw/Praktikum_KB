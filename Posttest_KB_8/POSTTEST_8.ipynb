{
 "cells": [
  {
   "cell_type": "markdown",
   "id": "cd00bd81-72d7-4265-b9fa-c18104f2eed1",
   "metadata": {},
   "source": [
    "### Mengimport Library yang diperlukan"
   ]
  },
  {
   "cell_type": "code",
   "execution_count": 206,
   "id": "3d6ea5d8-5fad-4adb-90cd-a9c8536b39b0",
   "metadata": {},
   "outputs": [],
   "source": [
    "import pandas as pd\n",
    "import tensorflow as tf\n",
    "from tensorflow.keras import Sequential\n",
    "from tensorflow.keras.layers import Dense\n",
    "from sklearn.preprocessing import OrdinalEncoder\n",
    "from sklearn.model_selection import train_test_split"
   ]
  },
  {
   "cell_type": "markdown",
   "id": "7cd6712a-d4ab-4f96-b562-43e695bc9b68",
   "metadata": {},
   "source": [
    "### Membaca File CSV"
   ]
  },
  {
   "cell_type": "code",
   "execution_count": 207,
   "id": "16c93e70-00c4-401a-b740-c22acf861ffe",
   "metadata": {},
   "outputs": [
    {
     "name": "stdout",
     "output_type": "stream",
     "text": [
      "<class 'pandas.core.frame.DataFrame'>\n",
      "RangeIndex: 7100 entries, 0 to 7099\n",
      "Data columns (total 11 columns):\n",
      " #   Column                Non-Null Count  Dtype  \n",
      "---  ------                --------------  -----  \n",
      " 0   Unnamed: 0            7100 non-null   int64  \n",
      " 1   As of                 7100 non-null   object \n",
      " 2   Rank                  7100 non-null   int64  \n",
      " 3   Year to Date Rank     7100 non-null   float64\n",
      " 4   Last Week Rank        7100 non-null   float64\n",
      " 5   Title                 7100 non-null   object \n",
      " 6   Type                  7100 non-null   object \n",
      " 7   Netflix Exclusive     7100 non-null   object \n",
      " 8   Netflix Release Date  7100 non-null   object \n",
      " 9   Days In Top 10        7100 non-null   int64  \n",
      " 10  Viewership Score      7100 non-null   int64  \n",
      "dtypes: float64(2), int64(4), object(5)\n",
      "memory usage: 610.3+ KB\n"
     ]
    }
   ],
   "source": [
    "df = pd.read_csv(\"netflix daily top 10 bersih.csv\" , sep = \";\")\n",
    "df.info()"
   ]
  },
  {
   "cell_type": "code",
   "execution_count": 208,
   "id": "f273cb9e-b90b-44d6-b842-a2922d28afe8",
   "metadata": {},
   "outputs": [
    {
     "data": {
      "text/html": [
       "<div>\n",
       "<style scoped>\n",
       "    .dataframe tbody tr th:only-of-type {\n",
       "        vertical-align: middle;\n",
       "    }\n",
       "\n",
       "    .dataframe tbody tr th {\n",
       "        vertical-align: top;\n",
       "    }\n",
       "\n",
       "    .dataframe thead th {\n",
       "        text-align: right;\n",
       "    }\n",
       "</style>\n",
       "<table border=\"1\" class=\"dataframe\">\n",
       "  <thead>\n",
       "    <tr style=\"text-align: right;\">\n",
       "      <th></th>\n",
       "      <th>Unnamed: 0</th>\n",
       "      <th>As of</th>\n",
       "      <th>Rank</th>\n",
       "      <th>Year to Date Rank</th>\n",
       "      <th>Last Week Rank</th>\n",
       "      <th>Title</th>\n",
       "      <th>Type</th>\n",
       "      <th>Netflix Exclusive</th>\n",
       "      <th>Netflix Release Date</th>\n",
       "      <th>Days In Top 10</th>\n",
       "      <th>Viewership Score</th>\n",
       "    </tr>\n",
       "  </thead>\n",
       "  <tbody>\n",
       "    <tr>\n",
       "      <th>0</th>\n",
       "      <td>0</td>\n",
       "      <td>01/04/2020</td>\n",
       "      <td>1</td>\n",
       "      <td>1.0</td>\n",
       "      <td>1.000000</td>\n",
       "      <td>Tiger King: Murder, Mayhem …</td>\n",
       "      <td>TV Show</td>\n",
       "      <td>Yes</td>\n",
       "      <td>Mar 20, 2020</td>\n",
       "      <td>9</td>\n",
       "      <td>90</td>\n",
       "    </tr>\n",
       "    <tr>\n",
       "      <th>1</th>\n",
       "      <td>1</td>\n",
       "      <td>01/04/2020</td>\n",
       "      <td>2</td>\n",
       "      <td>2.0</td>\n",
       "      <td>3.938378</td>\n",
       "      <td>Ozark</td>\n",
       "      <td>TV Show</td>\n",
       "      <td>Yes</td>\n",
       "      <td>Jul 21, 2017</td>\n",
       "      <td>5</td>\n",
       "      <td>45</td>\n",
       "    </tr>\n",
       "    <tr>\n",
       "      <th>2</th>\n",
       "      <td>2</td>\n",
       "      <td>01/04/2020</td>\n",
       "      <td>3</td>\n",
       "      <td>3.0</td>\n",
       "      <td>2.000000</td>\n",
       "      <td>All American</td>\n",
       "      <td>TV Show</td>\n",
       "      <td>Yes</td>\n",
       "      <td>Mar 28, 2019</td>\n",
       "      <td>9</td>\n",
       "      <td>76</td>\n",
       "    </tr>\n",
       "    <tr>\n",
       "      <th>3</th>\n",
       "      <td>3</td>\n",
       "      <td>01/04/2020</td>\n",
       "      <td>4</td>\n",
       "      <td>4.0</td>\n",
       "      <td>3.938378</td>\n",
       "      <td>Blood Father</td>\n",
       "      <td>Movie</td>\n",
       "      <td>Yes</td>\n",
       "      <td>Mar 26, 2020</td>\n",
       "      <td>5</td>\n",
       "      <td>30</td>\n",
       "    </tr>\n",
       "    <tr>\n",
       "      <th>4</th>\n",
       "      <td>4</td>\n",
       "      <td>01/04/2020</td>\n",
       "      <td>5</td>\n",
       "      <td>5.0</td>\n",
       "      <td>4.000000</td>\n",
       "      <td>The Platform</td>\n",
       "      <td>Movie</td>\n",
       "      <td>Yes</td>\n",
       "      <td>Mar 20, 2020</td>\n",
       "      <td>9</td>\n",
       "      <td>55</td>\n",
       "    </tr>\n",
       "  </tbody>\n",
       "</table>\n",
       "</div>"
      ],
      "text/plain": [
       "   Unnamed: 0       As of  Rank  Year to Date Rank  Last Week Rank  \\\n",
       "0           0  01/04/2020     1                1.0        1.000000   \n",
       "1           1  01/04/2020     2                2.0        3.938378   \n",
       "2           2  01/04/2020     3                3.0        2.000000   \n",
       "3           3  01/04/2020     4                4.0        3.938378   \n",
       "4           4  01/04/2020     5                5.0        4.000000   \n",
       "\n",
       "                          Title     Type Netflix Exclusive  \\\n",
       "0  Tiger King: Murder, Mayhem …  TV Show               Yes   \n",
       "1                         Ozark  TV Show               Yes   \n",
       "2                  All American  TV Show               Yes   \n",
       "3                  Blood Father    Movie               Yes   \n",
       "4                  The Platform    Movie               Yes   \n",
       "\n",
       "  Netflix Release Date  Days In Top 10  Viewership Score  \n",
       "0         Mar 20, 2020               9                90  \n",
       "1         Jul 21, 2017               5                45  \n",
       "2         Mar 28, 2019               9                76  \n",
       "3         Mar 26, 2020               5                30  \n",
       "4         Mar 20, 2020               9                55  "
      ]
     },
     "execution_count": 208,
     "metadata": {},
     "output_type": "execute_result"
    }
   ],
   "source": [
    "df.head()"
   ]
  },
  {
   "cell_type": "markdown",
   "id": "9f1ec10f-9c81-4bfd-bbf1-d72ecad9a530",
   "metadata": {},
   "source": [
    "### Mengecek Nilai Null"
   ]
  },
  {
   "cell_type": "code",
   "execution_count": 209,
   "id": "94ab5267-626c-43d7-b447-b3b80e5063f0",
   "metadata": {},
   "outputs": [
    {
     "data": {
      "text/plain": [
       "Unnamed: 0              0\n",
       "As of                   0\n",
       "Rank                    0\n",
       "Year to Date Rank       0\n",
       "Last Week Rank          0\n",
       "Title                   0\n",
       "Type                    0\n",
       "Netflix Exclusive       0\n",
       "Netflix Release Date    0\n",
       "Days In Top 10          0\n",
       "Viewership Score        0\n",
       "dtype: int64"
      ]
     },
     "execution_count": 209,
     "metadata": {},
     "output_type": "execute_result"
    }
   ],
   "source": [
    "df.isna().sum()"
   ]
  },
  {
   "cell_type": "markdown",
   "id": "f8542224-7e5a-47a1-b49f-1567b48a9764",
   "metadata": {},
   "source": [
    "### Mengecek Nilai Duplikat"
   ]
  },
  {
   "cell_type": "code",
   "execution_count": 210,
   "id": "6189bac0-8062-4a56-bcce-a6de49e75e80",
   "metadata": {},
   "outputs": [
    {
     "data": {
      "text/plain": [
       "0"
      ]
     },
     "execution_count": 210,
     "metadata": {},
     "output_type": "execute_result"
    }
   ],
   "source": [
    "df.duplicated().sum()"
   ]
  },
  {
   "cell_type": "markdown",
   "id": "f6e17d5d-e969-440f-8ef0-c1eaddc67961",
   "metadata": {},
   "source": [
    "### Mengecek Nilai Unik pada Attribut Type untuk menentukan class"
   ]
  },
  {
   "cell_type": "code",
   "execution_count": 195,
   "id": "526447ed-97f6-47c4-8bfb-61d4856150b9",
   "metadata": {},
   "outputs": [
    {
     "data": {
      "text/plain": [
       "array(['TV Show', 'Movie', 'StandUp Comedy', 'Concert/Perf…'],\n",
       "      dtype=object)"
      ]
     },
     "execution_count": 195,
     "metadata": {},
     "output_type": "execute_result"
    }
   ],
   "source": [
    "df['Type'].unique()"
   ]
  },
  {
   "cell_type": "markdown",
   "id": "a07595b1-3356-4f7f-837d-2e3358722bb0",
   "metadata": {},
   "source": [
    "### Mengubah Data Objek (Categorical) dengan Ordinal Encoder"
   ]
  },
  {
   "cell_type": "code",
   "execution_count": 211,
   "id": "48ce1317-480f-4ad3-b265-c22c45af2b28",
   "metadata": {},
   "outputs": [],
   "source": [
    "encoder = OrdinalEncoder()\n",
    "df[\"As of\"] = encoder.fit_transform(df[[\"As of\"]])\n",
    "df[\"Title\"] = encoder.fit_transform(df[[\"Title\"]])\n",
    "df[\"Type\"] = encoder.fit_transform(df[[\"Type\"]])\n",
    "df[\"Netflix Exclusive\"] = encoder.fit_transform(df[[\"Netflix Exclusive\"]])\n",
    "df[\"Netflix Release Date\"] = encoder.fit_transform(df[[\"Netflix Release Date\"]])"
   ]
  },
  {
   "cell_type": "markdown",
   "id": "266a0cfa-e71b-4fbc-9afa-6da2aed82452",
   "metadata": {},
   "source": [
    "### Data Splitting"
   ]
  },
  {
   "cell_type": "code",
   "execution_count": 212,
   "id": "053659ff-87f0-4268-8eac-b76771db8ece",
   "metadata": {},
   "outputs": [
    {
     "name": "stdout",
     "output_type": "stream",
     "text": [
      "Dimensi X_Train:  (4970, 9)\n",
      "Dimensi X_Test:  (2130, 9)\n",
      "Dimensi Y_Train:  (4970,)\n",
      "Dimensi Y_Test:  (2130,)\n"
     ]
    }
   ],
   "source": [
    "X = df[['As of', 'Rank', 'Year to Date Rank', \n",
    "        'Last Week Rank', 'Title', 'Netflix Exclusive',\n",
    "        'Netflix Release Date', 'Days In Top 10', 'Viewership Score']]\n",
    "Y = df['Type']\n",
    "\n",
    "X_train, X_test, Y_train, Y_test = train_test_split(X, Y, test_size = 0.3)\n",
    "\n",
    "# Menampilkan Dimensi\n",
    "print(\"Dimensi X_Train: \", X_train.shape)\n",
    "print(\"Dimensi X_Test: \", X_test.shape)\n",
    "print(\"Dimensi Y_Train: \", Y_train.shape)\n",
    "print(\"Dimensi Y_Test: \", Y_test.shape)"
   ]
  },
  {
   "cell_type": "markdown",
   "id": "09877038-176e-4965-b5f5-6a48b4cc46d7",
   "metadata": {},
   "source": [
    "### Encoding Label"
   ]
  },
  {
   "cell_type": "code",
   "execution_count": 213,
   "id": "dd4bcf4c-727b-435f-8b21-c204a0d7dd2d",
   "metadata": {},
   "outputs": [],
   "source": [
    "num_class = 4\n",
    "\n",
    "y_train = tf.keras.utils.to_categorical(Y_train, num_class)\n",
    "y_test = tf.keras.utils.to_categorical(Y_test, num_class)"
   ]
  },
  {
   "cell_type": "markdown",
   "id": "8952f2af-e8da-410b-a9b8-4e8b8511a495",
   "metadata": {},
   "source": [
    "### Membuat Deep Neural Network dengan Sequential Model"
   ]
  },
  {
   "cell_type": "code",
   "execution_count": 214,
   "id": "4b4be7c5-c106-4771-9944-486c846c471a",
   "metadata": {},
   "outputs": [
    {
     "name": "stdout",
     "output_type": "stream",
     "text": [
      "Model: \"sequential_13\"\n",
      "_________________________________________________________________\n",
      " Layer (type)                Output Shape              Param #   \n",
      "=================================================================\n",
      " dense_40 (Dense)            (None, 512)               5120      \n",
      "                                                                 \n",
      " dense_41 (Dense)            (None, 256)               131328    \n",
      "                                                                 \n",
      " dense_42 (Dense)            (None, 128)               32896     \n",
      "                                                                 \n",
      " dense_43 (Dense)            (None, 4)                 516       \n",
      "                                                                 \n",
      "=================================================================\n",
      "Total params: 169,860\n",
      "Trainable params: 169,860\n",
      "Non-trainable params: 0\n",
      "_________________________________________________________________\n"
     ]
    }
   ],
   "source": [
    "model = tf.keras.Sequential(\n",
    "    [\n",
    "        tf.keras.layers.Dense(512, activation='relu', input_dim = 9),\n",
    "        tf.keras.layers.Dense(256, activation='relu'),\n",
    "        tf.keras.layers.Dense(128, activation='relu'),\n",
    "        tf.keras.layers.Dense(4, activation='softmax')\n",
    "    ]\n",
    ")\n",
    "model.summary()"
   ]
  },
  {
   "cell_type": "markdown",
   "id": "9d0d9605-2fc2-4845-9c39-6984c0fb40d3",
   "metadata": {},
   "source": [
    "### Optimisasi Model"
   ]
  },
  {
   "cell_type": "code",
   "execution_count": 219,
   "id": "402a9703-7752-462d-b659-5e259e79175d",
   "metadata": {},
   "outputs": [],
   "source": [
    "model.compile(optimizer='adam', \n",
    "              loss='binary_crossentropy', \n",
    "              metrics=['accuracy'])"
   ]
  },
  {
   "cell_type": "markdown",
   "id": "59b75ea2-5c04-46bf-a598-6b1a2c7346cf",
   "metadata": {},
   "source": [
    "### Fitting Training Model"
   ]
  },
  {
   "cell_type": "code",
   "execution_count": 220,
   "id": "d53c3c89-81ab-47d6-9fe2-7a2dd0be34b3",
   "metadata": {},
   "outputs": [
    {
     "name": "stdout",
     "output_type": "stream",
     "text": [
      "Epoch 1/10\n",
      "10/10 [==============================] - 1s 49ms/step - loss: 0.3305 - accuracy: 0.6467 - val_loss: 0.3005 - val_accuracy: 0.6568\n",
      "Epoch 2/10\n",
      "10/10 [==============================] - 0s 23ms/step - loss: 0.2787 - accuracy: 0.6746 - val_loss: 0.2840 - val_accuracy: 0.6634\n",
      "Epoch 3/10\n",
      "10/10 [==============================] - 0s 26ms/step - loss: 0.2673 - accuracy: 0.6877 - val_loss: 0.2771 - val_accuracy: 0.6723\n",
      "Epoch 4/10\n",
      "10/10 [==============================] - 0s 31ms/step - loss: 0.2626 - accuracy: 0.6966 - val_loss: 0.2751 - val_accuracy: 0.6911\n",
      "Epoch 5/10\n",
      "10/10 [==============================] - 0s 24ms/step - loss: 0.2616 - accuracy: 0.7012 - val_loss: 0.2784 - val_accuracy: 0.6793\n",
      "Epoch 6/10\n",
      "10/10 [==============================] - 0s 24ms/step - loss: 0.2571 - accuracy: 0.7135 - val_loss: 0.2738 - val_accuracy: 0.6840\n",
      "Epoch 7/10\n",
      "10/10 [==============================] - 0s 28ms/step - loss: 0.2569 - accuracy: 0.7087 - val_loss: 0.2767 - val_accuracy: 0.7042\n",
      "Epoch 8/10\n",
      "10/10 [==============================] - 0s 23ms/step - loss: 0.2537 - accuracy: 0.7107 - val_loss: 0.2810 - val_accuracy: 0.6817\n",
      "Epoch 9/10\n",
      "10/10 [==============================] - 0s 22ms/step - loss: 0.2504 - accuracy: 0.7209 - val_loss: 0.2710 - val_accuracy: 0.7141\n",
      "Epoch 10/10\n",
      "10/10 [==============================] - 0s 24ms/step - loss: 0.2487 - accuracy: 0.7155 - val_loss: 0.2751 - val_accuracy: 0.7052\n"
     ]
    },
    {
     "data": {
      "text/plain": [
       "<keras.callbacks.History at 0x23f1645acb0>"
      ]
     },
     "execution_count": 220,
     "metadata": {},
     "output_type": "execute_result"
    }
   ],
   "source": [
    "model.fit(X_train, y_train, epochs = 10, batch_size = 512, validation_data = (X_test, y_test))"
   ]
  },
  {
   "cell_type": "markdown",
   "id": "06f0d9e0-0e33-45f4-b859-1f993d73fbad",
   "metadata": {},
   "source": [
    "### Evaluasi Model yang telah ditrain"
   ]
  },
  {
   "cell_type": "markdown",
   "id": "330970a4-a920-4525-bcea-5b2f20e1951f",
   "metadata": {},
   "source": [
    "#### Akurasi Score Testing"
   ]
  },
  {
   "cell_type": "code",
   "execution_count": 221,
   "id": "b5d4bf92-4489-4a4c-9fbb-9f186fee4f2e",
   "metadata": {},
   "outputs": [
    {
     "name": "stdout",
     "output_type": "stream",
     "text": [
      "67/67 [==============================] - 0s 3ms/step - loss: 0.2751 - accuracy: 0.7052\n",
      "TEST LOSS      :  0.27505776286125183\n",
      "TEST ACCURACY  :  0.7051643133163452\n"
     ]
    }
   ],
   "source": [
    "score_testing = model.evaluate(X_test, y_test)\n",
    "print(\"TEST LOSS      : \", score_testing[0])\n",
    "print(\"TEST ACCURACY  : \", score_testing[1])"
   ]
  },
  {
   "cell_type": "markdown",
   "id": "ac868685-5d91-433f-9889-139a55c281b0",
   "metadata": {},
   "source": [
    "#### Akurasi Score Training"
   ]
  },
  {
   "cell_type": "code",
   "execution_count": 222,
   "id": "ef32b2cc-7ecc-44ad-90b9-41fe390a3500",
   "metadata": {},
   "outputs": [
    {
     "name": "stdout",
     "output_type": "stream",
     "text": [
      "156/156 [==============================] - 0s 3ms/step - loss: 0.2456 - accuracy: 0.7320\n",
      "TEST LOSS      :  0.24555647373199463\n",
      "TEST ACCURACY  :  0.7319919466972351\n"
     ]
    }
   ],
   "source": [
    "score_training = model.evaluate(X_train, y_train)\n",
    "print(\"TEST LOSS      : \", score_training[0])\n",
    "print(\"TEST ACCURACY  : \", score_training[1])"
   ]
  },
  {
   "cell_type": "markdown",
   "id": "6abb2472-0ee4-42c8-8a0b-bf81ba3c1fb6",
   "metadata": {},
   "source": [
    "### Simpan Model"
   ]
  },
  {
   "cell_type": "code",
   "execution_count": 223,
   "id": "488ac75c-3fa5-46bd-a557-ed4de00f6945",
   "metadata": {},
   "outputs": [],
   "source": [
    "model.save('Hasil_Posttest8.h5')"
   ]
  },
  {
   "cell_type": "code",
   "execution_count": null,
   "id": "84df63a3-f086-40ef-b91d-c52bd7cebcaf",
   "metadata": {},
   "outputs": [],
   "source": []
  }
 ],
 "metadata": {
  "kernelspec": {
   "display_name": "Python 3 (ipykernel)",
   "language": "python",
   "name": "python3"
  },
  "language_info": {
   "codemirror_mode": {
    "name": "ipython",
    "version": 3
   },
   "file_extension": ".py",
   "mimetype": "text/x-python",
   "name": "python",
   "nbconvert_exporter": "python",
   "pygments_lexer": "ipython3",
   "version": "3.10.7"
  }
 },
 "nbformat": 4,
 "nbformat_minor": 5
}
