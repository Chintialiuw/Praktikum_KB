{
 "cells": [
  {
   "cell_type": "markdown",
   "id": "c7b938f9-b18e-4493-a957-65ddaafe74ad",
   "metadata": {},
   "source": [
    "### Import Library Tensorflow"
   ]
  },
  {
   "cell_type": "code",
   "execution_count": 74,
   "id": "8c5151b3-468c-435a-bb0f-b172dc7ea5de",
   "metadata": {},
   "outputs": [],
   "source": [
    "import tensorflow as tf"
   ]
  },
  {
   "cell_type": "markdown",
   "id": "4d0f0cad-2bbd-40de-b1b6-79c8743bec2b",
   "metadata": {},
   "source": [
    "### Membuat Tensor shape (5, 5) dengan nilai random dan disimpan ke dalam variable random_tensor"
   ]
  },
  {
   "cell_type": "code",
   "execution_count": 75,
   "id": "1ad8be2e-6834-4cd9-8052-65a508a3dd1a",
   "metadata": {},
   "outputs": [
    {
     "data": {
      "text/plain": [
       "<tf.Tensor: shape=(5, 5), dtype=float32, numpy=\n",
       "array([[-1.4204061 ,  0.96488476, -0.8710978 , -1.7372956 ,  0.8904632 ],\n",
       "       [ 0.7798779 ,  0.5186624 ,  3.064286  , -0.42675173, -0.01197859],\n",
       "       [ 0.92959887,  0.96473014, -1.0938528 ,  0.51005787,  0.7880065 ],\n",
       "       [-0.11182619,  0.50889623, -0.2681347 ,  0.10837378,  0.9259073 ],\n",
       "       [ 0.0942755 , -0.38526744, -1.0757197 ,  1.1518054 , -0.11730836]],\n",
       "      dtype=float32)>"
      ]
     },
     "execution_count": 75,
     "metadata": {},
     "output_type": "execute_result"
    }
   ],
   "source": [
    "random_tensor = tf.random.normal([5, 5])\n",
    "random_tensor"
   ]
  },
  {
   "cell_type": "markdown",
   "id": "6843069c-41f6-423f-b085-565f8b9ac1de",
   "metadata": {},
   "source": [
    "### Membuat Tensor shape (5, 5) dari sebuah list dengan nilai bilangan prima dan disimpan ke dalam variable prime_tensor"
   ]
  },
  {
   "cell_type": "code",
   "execution_count": 76,
   "id": "5eb7aa8a-ef69-420a-8ca0-5d825a4bbe73",
   "metadata": {},
   "outputs": [
    {
     "data": {
      "text/plain": [
       "<tf.Tensor: shape=(5, 5), dtype=float32, numpy=\n",
       "array([[ 2.,  3.,  5.,  7., 11.],\n",
       "       [13., 17., 19., 23., 29.],\n",
       "       [31., 37., 41., 43., 47.],\n",
       "       [53., 59., 61., 67., 71.],\n",
       "       [73., 79., 83., 89., 97.]], dtype=float32)>"
      ]
     },
     "execution_count": 76,
     "metadata": {},
     "output_type": "execute_result"
    }
   ],
   "source": [
    "prime_tensor = tf.constant([2, 3, 5, 7, 11, 13, 17, 19, 23, 29, 31, 37, 41, 43, 47, 53, 59, 61, 67, 71, 73, 79, 83, 89, 97], shape = [5,5], dtype = tf.float32)\n",
    "prime_tensor"
   ]
  },
  {
   "cell_type": "markdown",
   "id": "64293ef9-1f3d-4e7d-89e5-0a19b1673d92",
   "metadata": {},
   "source": [
    "### Menampilkan dimensi dari kedua variable di atas"
   ]
  },
  {
   "cell_type": "markdown",
   "id": "8ca013ae-08a1-4cc9-8b73-fb625a145636",
   "metadata": {},
   "source": [
    "#### Dimensi dari variable random_tensor"
   ]
  },
  {
   "cell_type": "code",
   "execution_count": 77,
   "id": "78d50e33-3b60-4a94-8c77-44130de53e02",
   "metadata": {},
   "outputs": [
    {
     "data": {
      "text/plain": [
       "TensorShape([5, 5])"
      ]
     },
     "execution_count": 77,
     "metadata": {},
     "output_type": "execute_result"
    }
   ],
   "source": [
    "dimensi_random = tf.random.normal([5,5], seed=1)\n",
    "dimensi_random.shape"
   ]
  },
  {
   "cell_type": "markdown",
   "id": "7dc3ff11-d176-4004-b4b3-31edff95eea8",
   "metadata": {},
   "source": [
    "#### Dimensi dari variable prime_tensor"
   ]
  },
  {
   "cell_type": "code",
   "execution_count": 78,
   "id": "ff7b8d59-a394-44c8-917c-9600418e868d",
   "metadata": {},
   "outputs": [
    {
     "data": {
      "text/plain": [
       "TensorShape([5, 5])"
      ]
     },
     "execution_count": 78,
     "metadata": {},
     "output_type": "execute_result"
    }
   ],
   "source": [
    "dimensi_prime = tf.constant([2, 3, 5, 7, 11, 13, 17, 19, 23, 29, 31, 37, 41, 43, 47, 53, 59, 61, 67, 71, 73, 79, 83, 89, 97], shape = [5,5])\n",
    "dimensi_prime.shape"
   ]
  },
  {
   "cell_type": "markdown",
   "id": "57a300a0-3ab0-4caa-9a45-6217b71c164a",
   "metadata": {},
   "source": [
    "### Menampilkan hasil dari perhitungan aritmatika 2 variable di atas"
   ]
  },
  {
   "cell_type": "markdown",
   "id": "38c8b293-0588-4202-a394-0bcef54d6a80",
   "metadata": {},
   "source": [
    "#### Deklarasi varible x dan y"
   ]
  },
  {
   "cell_type": "code",
   "execution_count": 79,
   "id": "6b01e100-7845-423f-b373-55ea1ae24a48",
   "metadata": {},
   "outputs": [],
   "source": [
    "x = random_tensor\n",
    "y = prime_tensor"
   ]
  },
  {
   "cell_type": "markdown",
   "id": "065cc956-efb7-4e11-b7b1-9e9a56f06f4d",
   "metadata": {},
   "source": [
    "#### Pertambahan"
   ]
  },
  {
   "cell_type": "code",
   "execution_count": 80,
   "id": "7aed3002-eba7-4947-b7ad-958a9ddf844a",
   "metadata": {},
   "outputs": [
    {
     "data": {
      "text/plain": [
       "<tf.Tensor: shape=(5, 5), dtype=float32, numpy=\n",
       "array([[ 0.5795939,  3.9648848,  4.1289024,  5.2627044, 11.890463 ],\n",
       "       [13.779878 , 17.518661 , 22.064285 , 22.573248 , 28.988022 ],\n",
       "       [31.9296   , 37.96473  , 39.906147 , 43.51006  , 47.788006 ],\n",
       "       [52.888172 , 59.508896 , 60.731865 , 67.108376 , 71.92591  ],\n",
       "       [73.09428  , 78.61473  , 81.92428  , 90.1518   , 96.88269  ]],\n",
       "      dtype=float32)>"
      ]
     },
     "execution_count": 80,
     "metadata": {},
     "output_type": "execute_result"
    }
   ],
   "source": [
    "tf.add(x, y)"
   ]
  },
  {
   "cell_type": "markdown",
   "id": "5f0b0def-0044-4c6f-917e-1b9d8a2c1d6a",
   "metadata": {},
   "source": [
    "#### Pengurangan"
   ]
  },
  {
   "cell_type": "code",
   "execution_count": 81,
   "id": "7d93cad8-b14a-4c08-b0b5-9f5034786795",
   "metadata": {},
   "outputs": [
    {
     "data": {
      "text/plain": [
       "<tf.Tensor: shape=(5, 5), dtype=float32, numpy=\n",
       "array([[ -3.420406 ,  -2.0351152,  -5.8710976,  -8.737295 , -10.109537 ],\n",
       "       [-12.220122 , -16.481339 , -15.935714 , -23.426752 , -29.011978 ],\n",
       "       [-30.0704   , -36.03527  , -42.093853 , -42.48994  , -46.211994 ],\n",
       "       [-53.111828 , -58.491104 , -61.268135 , -66.891624 , -70.07409  ],\n",
       "       [-72.90572  , -79.38527  , -84.07572  , -87.8482   , -97.11731  ]],\n",
       "      dtype=float32)>"
      ]
     },
     "execution_count": 81,
     "metadata": {},
     "output_type": "execute_result"
    }
   ],
   "source": [
    "tf.subtract(x, y)"
   ]
  },
  {
   "cell_type": "markdown",
   "id": "43ff602b-bd4b-4094-838f-488a65a59bae",
   "metadata": {},
   "source": [
    "#### Perkalian"
   ]
  },
  {
   "cell_type": "code",
   "execution_count": 82,
   "id": "540157ce-3839-48e9-bbbb-65b44d3d93dc",
   "metadata": {},
   "outputs": [
    {
     "data": {
      "text/plain": [
       "<tf.Tensor: shape=(5, 5), dtype=float32, numpy=\n",
       "array([[-44.374195, -52.24264 , -56.550816, -62.355286, -65.55747 ],\n",
       "       [ 79.802956,  98.41081 , 112.36362 , 119.494225, 136.18001 ],\n",
       "       [ 65.04879 ,  71.062584,  74.64797 ,  85.966774,  99.44242 ],\n",
       "       [ 71.41486 ,  77.9355  ,  81.577484,  89.05883 ,  98.43312 ],\n",
       "       [ 14.314938,  12.620808,   9.570325,  12.273351,   9.704722]],\n",
       "      dtype=float32)>"
      ]
     },
     "execution_count": 82,
     "metadata": {},
     "output_type": "execute_result"
    }
   ],
   "source": [
    "tf.matmul(x, y)"
   ]
  },
  {
   "cell_type": "markdown",
   "id": "5490b1ba-3465-493f-bdba-954e3d827a9e",
   "metadata": {},
   "source": [
    "#### Pembagian"
   ]
  },
  {
   "cell_type": "code",
   "execution_count": 83,
   "id": "a7099da2-f93a-4ce3-a2ca-f29c50f448d8",
   "metadata": {},
   "outputs": [
    {
     "data": {
      "text/plain": [
       "<tf.Tensor: shape=(5, 5), dtype=float32, numpy=\n",
       "array([[-7.1020305e-01,  3.2162824e-01, -1.7421956e-01, -2.4818508e-01,\n",
       "         8.0951199e-02],\n",
       "       [ 5.9990607e-02,  3.0509552e-02,  1.6127820e-01, -1.8554423e-02,\n",
       "        -4.1305480e-04],\n",
       "       [ 2.9987060e-02,  2.6073787e-02, -2.6679335e-02,  1.1861810e-02,\n",
       "         1.6766096e-02],\n",
       "       [-2.1099281e-03,  8.6253602e-03, -4.3956512e-03,  1.6175191e-03,\n",
       "         1.3040948e-02],\n",
       "       [ 1.2914452e-03, -4.8768031e-03, -1.2960479e-02,  1.2941633e-02,\n",
       "        -1.2093646e-03]], dtype=float32)>"
      ]
     },
     "execution_count": 83,
     "metadata": {},
     "output_type": "execute_result"
    }
   ],
   "source": [
    "tf.divide(x, y)"
   ]
  },
  {
   "cell_type": "markdown",
   "id": "56eb96ba-6fd5-4543-9566-2f24fb7df48d",
   "metadata": {},
   "source": [
    "#### Pangkat"
   ]
  },
  {
   "cell_type": "code",
   "execution_count": 84,
   "id": "1e6f805a-5e21-4c82-840a-81e7c78a5fad",
   "metadata": {},
   "outputs": [
    {
     "data": {
      "text/plain": [
       "<tf.Tensor: shape=(5, 5), dtype=float32, numpy=\n",
       "array([[ 2.0175536e+00,  8.9831024e-01, -5.0157350e-01, -4.7765694e+01,\n",
       "         2.7911013e-01],\n",
       "       [ 3.9477166e-02,  1.4224628e-05,  1.7388280e+09, -3.1191176e-09,\n",
       "        -0.0000000e+00],\n",
       "       [ 1.0403109e-01,  2.6486000e-01, -3.9565212e+01,  2.6769258e-13,\n",
       "         1.3705668e-05],\n",
       "       [-0.0000000e+00,  4.9104903e-18, -1.3475210e-35,  0.0000000e+00,\n",
       "         4.2295437e-03],\n",
       "       [ 0.0000000e+00, -1.8846121e-33, -4.2759006e+02,  2.9022903e+05,\n",
       "        -0.0000000e+00]], dtype=float32)>"
      ]
     },
     "execution_count": 84,
     "metadata": {},
     "output_type": "execute_result"
    }
   ],
   "source": [
    "tf.pow(x, y)"
   ]
  },
  {
   "cell_type": "markdown",
   "id": "0af1f6ef-f01b-4655-b2ac-e902ad1ae63b",
   "metadata": {},
   "source": [
    "### Menampilkan Nilai Maksimum dan Minimum dari varible random_tensor"
   ]
  },
  {
   "cell_type": "markdown",
   "id": "76c2a0a2-1fff-4213-b2ca-3b1ba0fd9bde",
   "metadata": {},
   "source": [
    "#### Deklarasi variable argmax"
   ]
  },
  {
   "cell_type": "code",
   "execution_count": 85,
   "id": "79cfa4d3-b896-42ca-8957-1fc39df2fdf9",
   "metadata": {},
   "outputs": [],
   "source": [
    "argmax = random_tensor"
   ]
  },
  {
   "cell_type": "markdown",
   "id": "272983e8-9bf0-49db-8e0b-82a80975cea9",
   "metadata": {},
   "source": [
    "#### Untuk Melihat Lokasi Nilai Max per kolom"
   ]
  },
  {
   "cell_type": "code",
   "execution_count": 86,
   "id": "94f78370-dbcf-484e-9331-089b01f1a214",
   "metadata": {},
   "outputs": [
    {
     "data": {
      "text/plain": [
       "<tf.Tensor: shape=(5,), dtype=int64, numpy=array([2, 0, 1, 4, 3], dtype=int64)>"
      ]
     },
     "execution_count": 86,
     "metadata": {},
     "output_type": "execute_result"
    }
   ],
   "source": [
    "max1 = tf.argmax(argmax, axis = 0) \n",
    "max1"
   ]
  },
  {
   "cell_type": "markdown",
   "id": "83e8dcf8-528c-47c4-97a6-df00a37e4a55",
   "metadata": {},
   "source": [
    "#### Untuk Melihat Lokasi Nilai Max per baris"
   ]
  },
  {
   "cell_type": "code",
   "execution_count": 87,
   "id": "547314f0-92d7-452d-b81b-c82346970ac0",
   "metadata": {},
   "outputs": [
    {
     "data": {
      "text/plain": [
       "<tf.Tensor: shape=(5,), dtype=int64, numpy=array([1, 2, 1, 4, 3], dtype=int64)>"
      ]
     },
     "execution_count": 87,
     "metadata": {},
     "output_type": "execute_result"
    }
   ],
   "source": [
    "max2 = tf.argmax(argmax, axis = 1)\n",
    "max2"
   ]
  },
  {
   "cell_type": "markdown",
   "id": "6d79101a-7611-4e8d-a14e-7bb9628b7f0e",
   "metadata": {},
   "source": [
    "#### Deklarasi variable argmin"
   ]
  },
  {
   "cell_type": "code",
   "execution_count": 88,
   "id": "b227263f-8a3d-46b9-8f39-5c6b5a33ab4c",
   "metadata": {},
   "outputs": [],
   "source": [
    "argmin = random_tensor"
   ]
  },
  {
   "cell_type": "markdown",
   "id": "06345786-e65b-4337-ac0a-4c00bcb6e08e",
   "metadata": {},
   "source": [
    "#### Untuk Melihat Lokasi Nilai Max per kolom"
   ]
  },
  {
   "cell_type": "code",
   "execution_count": 89,
   "id": "bc9a5b0b-d6e5-494c-9123-5d5ea6269551",
   "metadata": {},
   "outputs": [
    {
     "data": {
      "text/plain": [
       "<tf.Tensor: shape=(5,), dtype=int64, numpy=array([0, 4, 2, 0, 4], dtype=int64)>"
      ]
     },
     "execution_count": 89,
     "metadata": {},
     "output_type": "execute_result"
    }
   ],
   "source": [
    "min1 = tf.argmin(argmin, axis = 0)\n",
    "min1"
   ]
  },
  {
   "cell_type": "markdown",
   "id": "0231b701-968c-49fd-ab2f-75d25d3f470e",
   "metadata": {},
   "source": [
    "#### Untuk Melihat Lokasi Nilai Max per baris"
   ]
  },
  {
   "cell_type": "code",
   "execution_count": 90,
   "id": "c1112fa6-6fb1-4bef-a510-2d7c84ae84c8",
   "metadata": {},
   "outputs": [
    {
     "data": {
      "text/plain": [
       "<tf.Tensor: shape=(5,), dtype=int64, numpy=array([3, 3, 2, 2, 2], dtype=int64)>"
      ]
     },
     "execution_count": 90,
     "metadata": {},
     "output_type": "execute_result"
    }
   ],
   "source": [
    "min2 = tf.argmin(argmin, axis = 1)\n",
    "min2"
   ]
  },
  {
   "cell_type": "markdown",
   "id": "62f378b4-9838-45b0-a00a-e0f71ab622f9",
   "metadata": {},
   "source": [
    "### Menampilkan hasil dari penggabungan variable random_tensor dengan prime_tensor (concatenation)"
   ]
  },
  {
   "cell_type": "code",
   "execution_count": 91,
   "id": "88f55295-9eda-4a80-8623-9d4b91c28f0b",
   "metadata": {},
   "outputs": [],
   "source": [
    "concat1 = random_tensor\n",
    "concat2 = prime_tensor"
   ]
  },
  {
   "cell_type": "code",
   "execution_count": 92,
   "id": "1a9b3891-b2e4-44ca-9d10-9e8d91023fc5",
   "metadata": {},
   "outputs": [
    {
     "data": {
      "text/plain": [
       "<tf.Tensor: shape=(10, 5), dtype=float32, numpy=\n",
       "array([[-1.42040610e+00,  9.64884758e-01, -8.71097803e-01,\n",
       "        -1.73729563e+00,  8.90463173e-01],\n",
       "       [ 7.79877901e-01,  5.18662393e-01,  3.06428599e+00,\n",
       "        -4.26751733e-01, -1.19785890e-02],\n",
       "       [ 9.29598868e-01,  9.64730144e-01, -1.09385276e+00,\n",
       "         5.10057867e-01,  7.88006485e-01],\n",
       "       [-1.11826189e-01,  5.08896232e-01, -2.68134713e-01,\n",
       "         1.08373776e-01,  9.25907314e-01],\n",
       "       [ 9.42755044e-02, -3.85267437e-01, -1.07571971e+00,\n",
       "         1.15180540e+00, -1.17308363e-01],\n",
       "       [ 2.00000000e+00,  3.00000000e+00,  5.00000000e+00,\n",
       "         7.00000000e+00,  1.10000000e+01],\n",
       "       [ 1.30000000e+01,  1.70000000e+01,  1.90000000e+01,\n",
       "         2.30000000e+01,  2.90000000e+01],\n",
       "       [ 3.10000000e+01,  3.70000000e+01,  4.10000000e+01,\n",
       "         4.30000000e+01,  4.70000000e+01],\n",
       "       [ 5.30000000e+01,  5.90000000e+01,  6.10000000e+01,\n",
       "         6.70000000e+01,  7.10000000e+01],\n",
       "       [ 7.30000000e+01,  7.90000000e+01,  8.30000000e+01,\n",
       "         8.90000000e+01,  9.70000000e+01]], dtype=float32)>"
      ]
     },
     "execution_count": 92,
     "metadata": {},
     "output_type": "execute_result"
    }
   ],
   "source": [
    "concat1dan2 = tf.concat([concat1, concat2], axis = 0)\n",
    "concat1dan2"
   ]
  },
  {
   "cell_type": "markdown",
   "id": "d6a75091-21fc-4b38-b1aa-063d4f76e979",
   "metadata": {},
   "source": [
    "### Menampilkan hasil sorting dari kedua variable di atas (descending)"
   ]
  },
  {
   "cell_type": "code",
   "execution_count": 93,
   "id": "9c88b220-090b-44f1-bd72-3995d2b1067b",
   "metadata": {},
   "outputs": [],
   "source": [
    "sort1 = random_tensor\n",
    "sort2 = prime_tensor"
   ]
  },
  {
   "cell_type": "code",
   "execution_count": 94,
   "id": "f62eb654-239a-4fee-a9b7-1fa90a53ba80",
   "metadata": {},
   "outputs": [
    {
     "data": {
      "text/plain": [
       "<tf.Tensor: shape=(2, 5, 5), dtype=float32, numpy=\n",
       "array([[[ 9.64884758e-01,  8.90463173e-01, -8.71097803e-01,\n",
       "         -1.42040610e+00, -1.73729563e+00],\n",
       "        [ 3.06428599e+00,  7.79877901e-01,  5.18662393e-01,\n",
       "         -1.19785890e-02, -4.26751733e-01],\n",
       "        [ 9.64730144e-01,  9.29598868e-01,  7.88006485e-01,\n",
       "          5.10057867e-01, -1.09385276e+00],\n",
       "        [ 9.25907314e-01,  5.08896232e-01,  1.08373776e-01,\n",
       "         -1.11826189e-01, -2.68134713e-01],\n",
       "        [ 1.15180540e+00,  9.42755044e-02, -1.17308363e-01,\n",
       "         -3.85267437e-01, -1.07571971e+00]],\n",
       "\n",
       "       [[ 1.10000000e+01,  7.00000000e+00,  5.00000000e+00,\n",
       "          3.00000000e+00,  2.00000000e+00],\n",
       "        [ 2.90000000e+01,  2.30000000e+01,  1.90000000e+01,\n",
       "          1.70000000e+01,  1.30000000e+01],\n",
       "        [ 4.70000000e+01,  4.30000000e+01,  4.10000000e+01,\n",
       "          3.70000000e+01,  3.10000000e+01],\n",
       "        [ 7.10000000e+01,  6.70000000e+01,  6.10000000e+01,\n",
       "          5.90000000e+01,  5.30000000e+01],\n",
       "        [ 9.70000000e+01,  8.90000000e+01,  8.30000000e+01,\n",
       "          7.90000000e+01,  7.30000000e+01]]], dtype=float32)>"
      ]
     },
     "execution_count": 94,
     "metadata": {},
     "output_type": "execute_result"
    }
   ],
   "source": [
    "sort_desc = tf.sort([sort1, sort2], direction=\"DESCENDING\")\n",
    "sort_desc"
   ]
  }
 ],
 "metadata": {
  "kernelspec": {
   "display_name": "Python 3 (ipykernel)",
   "language": "python",
   "name": "python3"
  },
  "language_info": {
   "codemirror_mode": {
    "name": "ipython",
    "version": 3
   },
   "file_extension": ".py",
   "mimetype": "text/x-python",
   "name": "python",
   "nbconvert_exporter": "python",
   "pygments_lexer": "ipython3",
   "version": "3.10.7"
  }
 },
 "nbformat": 4,
 "nbformat_minor": 5
}
